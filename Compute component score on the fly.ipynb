{
 "cells": [
  {
   "cell_type": "code",
   "execution_count": 2,
   "metadata": {},
   "outputs": [],
   "source": [
    "import pandas as pd\n",
    "\n",
    "movies = pd.read_csv('final_data.csv')"
   ]
  },
  {
   "cell_type": "code",
   "execution_count": 4,
   "metadata": {},
   "outputs": [],
   "source": [
    "import json\n",
    "\n",
    "mean_std_json = open('cleaned_data/mean_std_2019.json', 'r')\n",
    "\n",
    "mean_std = json.load(mean_std_json)"
   ]
  },
  {
   "cell_type": "code",
   "execution_count": 5,
   "metadata": {},
   "outputs": [
    {
     "data": {
      "text/plain": [
       "{'prod_company|vote_average': [0.4487883695853029, 10.668354897368522],\n",
       " 'prod_company|vote_count': [20740.32898799314, 106699.12125248263],\n",
       " 'prod_company|profit': [1428029630.034949, 9511154233.807024],\n",
       " 'prod_company|rev_budget_ratio': [1984.1456002432185, 94191.57350114622],\n",
       " 'writer|vote_average': [-0.06938705723231973, 6.475768683117582],\n",
       " 'writer|vote_count': [11080.568162282963, 26244.503498267368],\n",
       " 'writer|profit': [875935954.0886366, 2717950033.0740314],\n",
       " 'writer|rev_budget_ratio': [1682.2327030091246, 83991.91105626336],\n",
       " 'director|vote_average': [0.06802063404051828, 5.770254937359396],\n",
       " 'director|vote_count': [9466.29387113672, 20567.215022609063],\n",
       " 'director|profit': [762719283.4817607, 2211250563.383148],\n",
       " 'director|rev_budget_ratio': [1695.6738540337337, 68691.93197750473],\n",
       " 'cast|vote_average': [0.4935719715215528, 16.938832677947325],\n",
       " 'cast|vote_count': [35009.501064352386, 80819.37673916346],\n",
       " 'cast|profit': [2643438879.8517766, 6530267994.184139],\n",
       " 'cast|rev_budget_ratio': [5954.2497391469415, 219452.24046692962],\n",
       " 'others|vote_average': [1.1965452285139284, 15.639357915056054],\n",
       " 'others|vote_count': [29864.254589733984, 63683.520245047606],\n",
       " 'others|profit': [2067473586.9633102, 5851531335.231854],\n",
       " 'others|rev_budget_ratio': [6652.776815869211, 234662.2839758212]}"
      ]
     },
     "execution_count": 5,
     "metadata": {},
     "output_type": "execute_result"
    }
   ],
   "source": [
    "mean_std"
   ]
  },
  {
   "cell_type": "code",
   "execution_count": 6,
   "metadata": {},
   "outputs": [],
   "source": [
    "name_basics = pd.read_csv('cleaned_data/relevant_name_basics.txt', delimiter='|')"
   ]
  },
  {
   "cell_type": "code",
   "execution_count": 7,
   "metadata": {},
   "outputs": [
    {
     "data": {
      "text/html": [
       "<div>\n",
       "<style scoped>\n",
       "    .dataframe tbody tr th:only-of-type {\n",
       "        vertical-align: middle;\n",
       "    }\n",
       "\n",
       "    .dataframe tbody tr th {\n",
       "        vertical-align: top;\n",
       "    }\n",
       "\n",
       "    .dataframe thead th {\n",
       "        text-align: right;\n",
       "    }\n",
       "</style>\n",
       "<table border=\"1\" class=\"dataframe\">\n",
       "  <thead>\n",
       "    <tr style=\"text-align: right;\">\n",
       "      <th></th>\n",
       "      <th>nconst</th>\n",
       "      <th>primaryName</th>\n",
       "      <th>birthYear</th>\n",
       "      <th>deathYear</th>\n",
       "      <th>primaryProfession</th>\n",
       "      <th>knownForTitles</th>\n",
       "    </tr>\n",
       "  </thead>\n",
       "  <tbody>\n",
       "    <tr>\n",
       "      <th>0</th>\n",
       "      <td>nm0000001</td>\n",
       "      <td>Fred Astaire</td>\n",
       "      <td>1899</td>\n",
       "      <td>1987</td>\n",
       "      <td>soundtrack,actor,miscellaneous</td>\n",
       "      <td>tt0072308</td>\n",
       "    </tr>\n",
       "    <tr>\n",
       "      <th>1</th>\n",
       "      <td>nm0000004</td>\n",
       "      <td>John Belushi</td>\n",
       "      <td>1949</td>\n",
       "      <td>1982</td>\n",
       "      <td>actor,writer,soundtrack</td>\n",
       "      <td>tt0080455, tt0078723</td>\n",
       "    </tr>\n",
       "    <tr>\n",
       "      <th>2</th>\n",
       "      <td>nm0000006</td>\n",
       "      <td>Ingrid Bergman</td>\n",
       "      <td>1915</td>\n",
       "      <td>1982</td>\n",
       "      <td>actress,soundtrack,producer</td>\n",
       "      <td>tt0038109, tt0038787</td>\n",
       "    </tr>\n",
       "    <tr>\n",
       "      <th>3</th>\n",
       "      <td>nm0000007</td>\n",
       "      <td>Humphrey Bogart</td>\n",
       "      <td>1899</td>\n",
       "      <td>1957</td>\n",
       "      <td>actor,soundtrack,producer</td>\n",
       "      <td>tt0033870, tt0034583</td>\n",
       "    </tr>\n",
       "    <tr>\n",
       "      <th>4</th>\n",
       "      <td>nm0000008</td>\n",
       "      <td>Marlon Brando</td>\n",
       "      <td>1924</td>\n",
       "      <td>2004</td>\n",
       "      <td>actor,soundtrack,director</td>\n",
       "      <td>tt0068646, tt0044081, tt0078788</td>\n",
       "    </tr>\n",
       "    <tr>\n",
       "      <th>...</th>\n",
       "      <td>...</td>\n",
       "      <td>...</td>\n",
       "      <td>...</td>\n",
       "      <td>...</td>\n",
       "      <td>...</td>\n",
       "      <td>...</td>\n",
       "    </tr>\n",
       "    <tr>\n",
       "      <th>397100</th>\n",
       "      <td>nm9993605</td>\n",
       "      <td>Kirk 'Ish' Ishitani</td>\n",
       "      <td>\\N</td>\n",
       "      <td>\\N</td>\n",
       "      <td>producer</td>\n",
       "      <td>tt0859635</td>\n",
       "    </tr>\n",
       "    <tr>\n",
       "      <th>397101</th>\n",
       "      <td>nm9993606</td>\n",
       "      <td>Big John Love</td>\n",
       "      <td>\\N</td>\n",
       "      <td>\\N</td>\n",
       "      <td>producer</td>\n",
       "      <td>tt0859635</td>\n",
       "    </tr>\n",
       "    <tr>\n",
       "      <th>397102</th>\n",
       "      <td>nm9993607</td>\n",
       "      <td>Joel Seligstein</td>\n",
       "      <td>\\N</td>\n",
       "      <td>\\N</td>\n",
       "      <td>producer</td>\n",
       "      <td>tt0859635</td>\n",
       "    </tr>\n",
       "    <tr>\n",
       "      <th>397103</th>\n",
       "      <td>nm9993608</td>\n",
       "      <td>Noah Shah</td>\n",
       "      <td>\\N</td>\n",
       "      <td>\\N</td>\n",
       "      <td>producer</td>\n",
       "      <td>tt0859635</td>\n",
       "    </tr>\n",
       "    <tr>\n",
       "      <th>397104</th>\n",
       "      <td>nm9993619</td>\n",
       "      <td>Sean McManus</td>\n",
       "      <td>\\N</td>\n",
       "      <td>\\N</td>\n",
       "      <td>miscellaneous,location_management</td>\n",
       "      <td>tt6644200, tt2199571</td>\n",
       "    </tr>\n",
       "  </tbody>\n",
       "</table>\n",
       "<p>397105 rows × 6 columns</p>\n",
       "</div>"
      ],
      "text/plain": [
       "           nconst          primaryName birthYear deathYear  \\\n",
       "0       nm0000001         Fred Astaire      1899      1987   \n",
       "1       nm0000004         John Belushi      1949      1982   \n",
       "2       nm0000006       Ingrid Bergman      1915      1982   \n",
       "3       nm0000007      Humphrey Bogart      1899      1957   \n",
       "4       nm0000008        Marlon Brando      1924      2004   \n",
       "...           ...                  ...       ...       ...   \n",
       "397100  nm9993605  Kirk 'Ish' Ishitani        \\N        \\N   \n",
       "397101  nm9993606        Big John Love        \\N        \\N   \n",
       "397102  nm9993607      Joel Seligstein        \\N        \\N   \n",
       "397103  nm9993608            Noah Shah        \\N        \\N   \n",
       "397104  nm9993619         Sean McManus        \\N        \\N   \n",
       "\n",
       "                        primaryProfession                   knownForTitles  \n",
       "0          soundtrack,actor,miscellaneous                        tt0072308  \n",
       "1                 actor,writer,soundtrack             tt0080455, tt0078723  \n",
       "2             actress,soundtrack,producer             tt0038109, tt0038787  \n",
       "3               actor,soundtrack,producer             tt0033870, tt0034583  \n",
       "4               actor,soundtrack,director  tt0068646, tt0044081, tt0078788  \n",
       "...                                   ...                              ...  \n",
       "397100                           producer                        tt0859635  \n",
       "397101                           producer                        tt0859635  \n",
       "397102                           producer                        tt0859635  \n",
       "397103                           producer                        tt0859635  \n",
       "397104  miscellaneous,location_management             tt6644200, tt2199571  \n",
       "\n",
       "[397105 rows x 6 columns]"
      ]
     },
     "execution_count": 7,
     "metadata": {},
     "output_type": "execute_result"
    }
   ],
   "source": [
    "name_basics"
   ]
  },
  {
   "cell_type": "code",
   "execution_count": 33,
   "metadata": {},
   "outputs": [],
   "source": [
    "num_genres = 4\n",
    "num_prod_companies = 5\n",
    "num_directors = 3\n",
    "num_writers = 5\n",
    "num_others = 10\n",
    "num_cast = 10"
   ]
  },
  {
   "cell_type": "code",
   "execution_count": 37,
   "metadata": {},
   "outputs": [],
   "source": [
    "def get_tconst(name):\n",
    "    try:\n",
    "        return name_basics[name_basics['primaryName'] == name][['nconst']].values[0][0]\n",
    "    except:\n",
    "        return ''\n",
    "    \n",
    "def set_tconsts(staff_list):\n",
    "    for i in range(len(staff_list)):\n",
    "        staff_list[i] = get_tconst(staff_list[i])\n",
    "        \n",
    "    return staff_list\n",
    "\n",
    "def fill_missing(feature_list, max_number):\n",
    "    i = len(feature_list)\n",
    "    \n",
    "    while i < max_number:\n",
    "        feature_list.append('')\n",
    "        i += 1\n",
    "        \n",
    "    return feature_list"
   ]
  },
  {
   "cell_type": "code",
   "execution_count": null,
   "metadata": {},
   "outputs": [],
   "source": []
  },
  {
   "cell_type": "code",
   "execution_count": 49,
   "metadata": {},
   "outputs": [
    {
     "data": {
      "text/plain": [
       "'nm0634240'"
      ]
     },
     "execution_count": 49,
     "metadata": {},
     "output_type": "execute_result"
    }
   ],
   "source": [
    "get_tconst('Fred Astaire')"
   ]
  },
  {
   "cell_type": "code",
   "execution_count": 25,
   "metadata": {},
   "outputs": [
    {
     "data": {
      "text/plain": [
       "'nm0000004'"
      ]
     },
     "execution_count": 25,
     "metadata": {},
     "output_type": "execute_result"
    }
   ],
   "source": [
    "get_tconst('John Belushi')"
   ]
  },
  {
   "cell_type": "code",
   "execution_count": 26,
   "metadata": {},
   "outputs": [
    {
     "data": {
      "text/plain": [
       "['nm0000001', 'nm0000004']"
      ]
     },
     "execution_count": 26,
     "metadata": {},
     "output_type": "execute_result"
    }
   ],
   "source": [
    "set_tconsts(['Fred Astaire', 'John Belushi'])"
   ]
  },
  {
   "cell_type": "code",
   "execution_count": 27,
   "metadata": {},
   "outputs": [
    {
     "data": {
      "text/plain": [
       "['', 'nm0000004']"
      ]
     },
     "execution_count": 27,
     "metadata": {},
     "output_type": "execute_result"
    }
   ],
   "source": [
    "set_tconsts(['Spaghetti Monster', 'John Belushi'])"
   ]
  },
  {
   "cell_type": "code",
   "execution_count": 38,
   "metadata": {},
   "outputs": [
    {
     "data": {
      "text/plain": [
       "['Fred Astaire', 'John Belushi', '', '', '']"
      ]
     },
     "execution_count": 38,
     "metadata": {},
     "output_type": "execute_result"
    }
   ],
   "source": [
    "fill_missing(['Fred Astaire', 'John Belushi'], 5)"
   ]
  },
  {
   "cell_type": "code",
   "execution_count": 40,
   "metadata": {},
   "outputs": [],
   "source": [
    "nontrivial_col_types = [['prod_company_1',\n",
    "  'prod_company_2',\n",
    "  'prod_company_3',\n",
    "  'prod_company_4',\n",
    "  'prod_company_5'],\n",
    " ['writer_1', 'writer_2', 'writer_3', 'writer_4', 'writer_5'],\n",
    " ['director_1', 'director_2', 'director_3'],\n",
    " ['cast_1',\n",
    "  'cast_2',\n",
    "  'cast_3',\n",
    "  'cast_4',\n",
    "  'cast_5',\n",
    "  'cast_6',\n",
    "  'cast_7',\n",
    "  'cast_8',\n",
    "  'cast_9',\n",
    "  'cast_10'],\n",
    " ['others_1',\n",
    "  'others_2',\n",
    "  'others_3',\n",
    "  'others_4',\n",
    "  'others_5',\n",
    "  'others_6',\n",
    "  'others_7',\n",
    "  'others_8',\n",
    "  'others_9',\n",
    "  'others_10']]"
   ]
  },
  {
   "cell_type": "code",
   "execution_count": 45,
   "metadata": {},
   "outputs": [],
   "source": [
    "def assign_features(cur_dict, col, col_values, num_cols):\n",
    "    for i in range(num_cols):\n",
    "        cur_dict[col + '_' + str(i)] = col_values[i]\n",
    "    return cur_dict"
   ]
  },
  {
   "cell_type": "code",
   "execution_count": 46,
   "metadata": {},
   "outputs": [
    {
     "data": {
      "text/plain": [
       "{'cast_0': 'Fred Astaire',\n",
       " 'cast_1': 'John Belushi',\n",
       " 'cast_2': '',\n",
       " 'cast_3': '',\n",
       " 'cast_4': '',\n",
       " 'cast_5': '',\n",
       " 'cast_6': '',\n",
       " 'cast_7': '',\n",
       " 'cast_8': '',\n",
       " 'cast_9': ''}"
      ]
     },
     "execution_count": 46,
     "metadata": {},
     "output_type": "execute_result"
    }
   ],
   "source": [
    "assign_features({}, 'cast', fill_missing(['Fred Astaire', 'John Belushi'], num_cast), num_cast)"
   ]
  },
  {
   "cell_type": "code",
   "execution_count": 57,
   "metadata": {},
   "outputs": [],
   "source": [
    "def get_df_without_scores(budget, runtime, genres, prod_companies, writers, directors, actors, others):\n",
    "    \"\"\"\n",
    "    prod_companies, writers, directors, actors, others will be a list of names which I'll then join on their id's\n",
    "    which I'll then use to compute the score\n",
    "    \"\"\"\n",
    "    genres = fill_missing(genres, num_genres)\n",
    "    prod_companies = fill_missing(prod_companies, num_prod_companies)\n",
    "    writers = fill_missing(set_tconsts(writers), num_writers)\n",
    "    directors = fill_missing(set_tconsts(directors), num_directors)\n",
    "    actors = fill_missing(set_tconsts(actors), num_cast)\n",
    "    others = fill_missing(set_tconsts(others), num_others)\n",
    "        \n",
    "    df_dict = {}\n",
    "    \n",
    "    df_dict['budget'] = budget\n",
    "    df_dict['runtime'] = runtime\n",
    "    \n",
    "    df_dict = assign_features(df_dict, 'genre', genres, num_genres)\n",
    "    df_dict = assign_features(df_dict, 'prod_company', prod_companies, num_prod_companies)\n",
    "    df_dict = assign_features(df_dict, 'writer', writers, num_writers)\n",
    "    df_dict = assign_features(df_dict, 'director', directors, num_directors)\n",
    "    df_dict = assign_features(df_dict, 'cast', actors, num_cast)\n",
    "    df_dict = assign_features(df_dict, 'others', others, num_others)\n",
    "\n",
    "#     print(df_dict)\n",
    "    return pd.DataFrame([df_dict])"
   ]
  },
  {
   "cell_type": "code",
   "execution_count": 59,
   "metadata": {},
   "outputs": [],
   "source": [
    "pd.set_option((\"display.max_columns\"), 50)"
   ]
  },
  {
   "cell_type": "code",
   "execution_count": 60,
   "metadata": {},
   "outputs": [
    {
     "data": {
      "text/html": [
       "<div>\n",
       "<style scoped>\n",
       "    .dataframe tbody tr th:only-of-type {\n",
       "        vertical-align: middle;\n",
       "    }\n",
       "\n",
       "    .dataframe tbody tr th {\n",
       "        vertical-align: top;\n",
       "    }\n",
       "\n",
       "    .dataframe thead th {\n",
       "        text-align: right;\n",
       "    }\n",
       "</style>\n",
       "<table border=\"1\" class=\"dataframe\">\n",
       "  <thead>\n",
       "    <tr style=\"text-align: right;\">\n",
       "      <th></th>\n",
       "      <th>budget</th>\n",
       "      <th>runtime</th>\n",
       "      <th>genre_0</th>\n",
       "      <th>genre_1</th>\n",
       "      <th>genre_2</th>\n",
       "      <th>genre_3</th>\n",
       "      <th>prod_company_0</th>\n",
       "      <th>prod_company_1</th>\n",
       "      <th>prod_company_2</th>\n",
       "      <th>prod_company_3</th>\n",
       "      <th>prod_company_4</th>\n",
       "      <th>writer_0</th>\n",
       "      <th>writer_1</th>\n",
       "      <th>writer_2</th>\n",
       "      <th>writer_3</th>\n",
       "      <th>writer_4</th>\n",
       "      <th>director_0</th>\n",
       "      <th>director_1</th>\n",
       "      <th>director_2</th>\n",
       "      <th>cast_0</th>\n",
       "      <th>cast_1</th>\n",
       "      <th>cast_2</th>\n",
       "      <th>cast_3</th>\n",
       "      <th>cast_4</th>\n",
       "      <th>cast_5</th>\n",
       "      <th>cast_6</th>\n",
       "      <th>cast_7</th>\n",
       "      <th>cast_8</th>\n",
       "      <th>cast_9</th>\n",
       "      <th>others_0</th>\n",
       "      <th>others_1</th>\n",
       "      <th>others_2</th>\n",
       "      <th>others_3</th>\n",
       "      <th>others_4</th>\n",
       "      <th>others_5</th>\n",
       "      <th>others_6</th>\n",
       "      <th>others_7</th>\n",
       "      <th>others_8</th>\n",
       "      <th>others_9</th>\n",
       "    </tr>\n",
       "  </thead>\n",
       "  <tbody>\n",
       "    <tr>\n",
       "      <th>0</th>\n",
       "      <td>2</td>\n",
       "      <td>4</td>\n",
       "      <td>Action</td>\n",
       "      <td>Comedy</td>\n",
       "      <td></td>\n",
       "      <td></td>\n",
       "      <td>20th Century Fox</td>\n",
       "      <td></td>\n",
       "      <td></td>\n",
       "      <td></td>\n",
       "      <td></td>\n",
       "      <td>nm0634240</td>\n",
       "      <td></td>\n",
       "      <td></td>\n",
       "      <td></td>\n",
       "      <td></td>\n",
       "      <td>nm0634240</td>\n",
       "      <td></td>\n",
       "      <td></td>\n",
       "      <td>nm0000004</td>\n",
       "      <td></td>\n",
       "      <td></td>\n",
       "      <td></td>\n",
       "      <td></td>\n",
       "      <td></td>\n",
       "      <td></td>\n",
       "      <td></td>\n",
       "      <td></td>\n",
       "      <td></td>\n",
       "      <td>nm0000001</td>\n",
       "      <td></td>\n",
       "      <td></td>\n",
       "      <td></td>\n",
       "      <td></td>\n",
       "      <td></td>\n",
       "      <td></td>\n",
       "      <td></td>\n",
       "      <td></td>\n",
       "      <td></td>\n",
       "    </tr>\n",
       "  </tbody>\n",
       "</table>\n",
       "</div>"
      ],
      "text/plain": [
       "   budget  runtime genre_0 genre_1 genre_2 genre_3    prod_company_0  \\\n",
       "0       2        4  Action  Comedy                  20th Century Fox   \n",
       "\n",
       "  prod_company_1 prod_company_2 prod_company_3 prod_company_4   writer_0  \\\n",
       "0                                                              nm0634240   \n",
       "\n",
       "  writer_1 writer_2 writer_3 writer_4 director_0 director_1 director_2  \\\n",
       "0                                      nm0634240                         \n",
       "\n",
       "      cast_0 cast_1 cast_2 cast_3 cast_4 cast_5 cast_6 cast_7 cast_8 cast_9  \\\n",
       "0  nm0000004                                                                  \n",
       "\n",
       "    others_0 others_1 others_2 others_3 others_4 others_5 others_6 others_7  \\\n",
       "0  nm0000001                                                                  \n",
       "\n",
       "  others_8 others_9  \n",
       "0                    "
      ]
     },
     "execution_count": 60,
     "metadata": {},
     "output_type": "execute_result"
    }
   ],
   "source": [
    "get_df_without_scores(2, 4, ['Action', 'Comedy'], ['20th Century Fox'], ['Christopher Nolan'],\n",
    "                      ['Christopher Nolan'], ['John Belushi'], ['Fred Astaire'])"
   ]
  },
  {
   "cell_type": "code",
   "execution_count": null,
   "metadata": {},
   "outputs": [],
   "source": []
  }
 ],
 "metadata": {
  "kernelspec": {
   "display_name": "tf12_gpu",
   "language": "python",
   "name": "tf12_gpu"
  },
  "language_info": {
   "codemirror_mode": {
    "name": "ipython",
    "version": 3
   },
   "file_extension": ".py",
   "mimetype": "text/x-python",
   "name": "python",
   "nbconvert_exporter": "python",
   "pygments_lexer": "ipython3",
   "version": "3.6.9"
  }
 },
 "nbformat": 4,
 "nbformat_minor": 2
}
