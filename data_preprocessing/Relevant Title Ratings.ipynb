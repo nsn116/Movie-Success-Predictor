{
 "cells": [
  {
   "cell_type": "code",
   "execution_count": 1,
   "metadata": {},
   "outputs": [],
   "source": [
    "import pandas as pd"
   ]
  },
  {
   "cell_type": "code",
   "execution_count": 2,
   "metadata": {},
   "outputs": [],
   "source": [
    "imdb_tmdb = pd.read_csv('../data/imdb_tmdb.csv')"
   ]
  },
  {
   "cell_type": "code",
   "execution_count": 3,
   "metadata": {},
   "outputs": [],
   "source": [
    "title_ratings = pd.read_csv('title_ratings.tsv', delimiter='\\t')"
   ]
  },
  {
   "cell_type": "code",
   "execution_count": 4,
   "metadata": {},
   "outputs": [],
   "source": [
    "ratings_no_dupes = title_ratings.drop_duplicates()"
   ]
  },
  {
   "cell_type": "code",
   "execution_count": 6,
   "metadata": {},
   "outputs": [
    {
     "name": "stdout",
     "output_type": "stream",
     "text": [
      "CPU times: user 491 ms, sys: 39.6 ms, total: 530 ms\n",
      "Wall time: 530 ms\n"
     ]
    }
   ],
   "source": [
    "%%time\n",
    "relevant_title_ratings = pd.merge(imdb_tmdb[['tconst']], ratings_no_dupes,\n",
    "                  left_on=['tconst'], right_on=['tconst'], how ='inner')"
   ]
  },
  {
   "cell_type": "code",
   "execution_count": 7,
   "metadata": {},
   "outputs": [
    {
     "data": {
      "text/plain": [
       "Unnamed: 0               3754\n",
       "belongs_to_collection     886\n",
       "budget                   3754\n",
       "genres_x                 3754\n",
       "id                       3754\n",
       "imdb_id                  3754\n",
       "original_language        3754\n",
       "original_title           3754\n",
       "overview                 3754\n",
       "popularity               3754\n",
       "production_companies     3754\n",
       "production_countries     3754\n",
       "release_date             3754\n",
       "revenue                  3754\n",
       "runtime                  3753\n",
       "spoken_languages         3754\n",
       "status                   3754\n",
       "status_code                 0\n",
       "status_message              0\n",
       "tagline                  3444\n",
       "title                    3754\n",
       "vote_average             3754\n",
       "vote_count               3754\n",
       "release_year             3754\n",
       "tconst                   3754\n",
       "titleType                3754\n",
       "primaryTitle             3754\n",
       "isAdult                  3754\n",
       "startYear                3754\n",
       "runtimeMinutes           3754\n",
       "genres_y                 3754\n",
       "_merge                   3754\n",
       "dtype: int64"
      ]
     },
     "execution_count": 7,
     "metadata": {},
     "output_type": "execute_result"
    }
   ],
   "source": [
    "imdb_tmdb.count()"
   ]
  },
  {
   "cell_type": "code",
   "execution_count": 8,
   "metadata": {},
   "outputs": [
    {
     "data": {
      "text/plain": [
       "tconst           3749\n",
       "averageRating    3749\n",
       "numVotes         3749\n",
       "dtype: int64"
      ]
     },
     "execution_count": 8,
     "metadata": {},
     "output_type": "execute_result"
    }
   ],
   "source": [
    "relevant_title_ratings.count()"
   ]
  },
  {
   "cell_type": "code",
   "execution_count": 9,
   "metadata": {},
   "outputs": [],
   "source": [
    "relevant_title_ratings.to_csv('../data/relevant_title_ratings.csv')"
   ]
  }
 ],
 "metadata": {
  "kernelspec": {
   "display_name": "Python 3.7 ML",
   "language": "python",
   "name": "ml"
  },
  "language_info": {
   "codemirror_mode": {
    "name": "ipython",
    "version": 3
   },
   "file_extension": ".py",
   "mimetype": "text/x-python",
   "name": "python",
   "nbconvert_exporter": "python",
   "pygments_lexer": "ipython3",
   "version": "3.7.4"
  }
 },
 "nbformat": 4,
 "nbformat_minor": 2
}
