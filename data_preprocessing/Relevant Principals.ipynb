{
 "cells": [
  {
   "cell_type": "code",
   "execution_count": 1,
   "metadata": {},
   "outputs": [],
   "source": [
    "import pandas as pd"
   ]
  },
  {
   "cell_type": "code",
   "execution_count": 2,
   "metadata": {},
   "outputs": [],
   "source": [
    "imdb_tmdb = pd.read_csv('../data/imdb_tmdb.csv')"
   ]
  },
  {
   "cell_type": "code",
   "execution_count": 3,
   "metadata": {},
   "outputs": [],
   "source": [
    "title_principals = pd.read_csv('title_principals.tsv', delimiter='\\t')"
   ]
  },
  {
   "cell_type": "code",
   "execution_count": 23,
   "metadata": {},
   "outputs": [
    {
     "data": {
      "text/html": [
       "<div>\n",
       "<style scoped>\n",
       "    .dataframe tbody tr th:only-of-type {\n",
       "        vertical-align: middle;\n",
       "    }\n",
       "\n",
       "    .dataframe tbody tr th {\n",
       "        vertical-align: top;\n",
       "    }\n",
       "\n",
       "    .dataframe thead th {\n",
       "        text-align: right;\n",
       "    }\n",
       "</style>\n",
       "<table border=\"1\" class=\"dataframe\">\n",
       "  <thead>\n",
       "    <tr style=\"text-align: right;\">\n",
       "      <th></th>\n",
       "      <th>tconst</th>\n",
       "      <th>ordering</th>\n",
       "      <th>nconst</th>\n",
       "      <th>category</th>\n",
       "      <th>job</th>\n",
       "      <th>characters</th>\n",
       "    </tr>\n",
       "  </thead>\n",
       "  <tbody>\n",
       "    <tr>\n",
       "      <th>14119653</th>\n",
       "      <td>tt1515091</td>\n",
       "      <td>10</td>\n",
       "      <td>nm1469853</td>\n",
       "      <td>producer</td>\n",
       "      <td>producer</td>\n",
       "      <td>\\N</td>\n",
       "    </tr>\n",
       "    <tr>\n",
       "      <th>14119654</th>\n",
       "      <td>tt1515091</td>\n",
       "      <td>1</td>\n",
       "      <td>nm0000375</td>\n",
       "      <td>actor</td>\n",
       "      <td>\\N</td>\n",
       "      <td>[\"Sherlock Holmes\"]</td>\n",
       "    </tr>\n",
       "    <tr>\n",
       "      <th>14119655</th>\n",
       "      <td>tt1515091</td>\n",
       "      <td>2</td>\n",
       "      <td>nm0000179</td>\n",
       "      <td>actor</td>\n",
       "      <td>\\N</td>\n",
       "      <td>[\"Dr. John Watson\"]</td>\n",
       "    </tr>\n",
       "    <tr>\n",
       "      <th>14119656</th>\n",
       "      <td>tt1515091</td>\n",
       "      <td>3</td>\n",
       "      <td>nm0364813</td>\n",
       "      <td>actor</td>\n",
       "      <td>\\N</td>\n",
       "      <td>[\"Professor James Moriarty\"]</td>\n",
       "    </tr>\n",
       "    <tr>\n",
       "      <th>14119657</th>\n",
       "      <td>tt1515091</td>\n",
       "      <td>4</td>\n",
       "      <td>nm1046097</td>\n",
       "      <td>actress</td>\n",
       "      <td>\\N</td>\n",
       "      <td>[\"Irene Adler\"]</td>\n",
       "    </tr>\n",
       "    <tr>\n",
       "      <th>14119658</th>\n",
       "      <td>tt1515091</td>\n",
       "      <td>5</td>\n",
       "      <td>nm0005363</td>\n",
       "      <td>director</td>\n",
       "      <td>\\N</td>\n",
       "      <td>\\N</td>\n",
       "    </tr>\n",
       "    <tr>\n",
       "      <th>14119659</th>\n",
       "      <td>tt1515091</td>\n",
       "      <td>6</td>\n",
       "      <td>nm1802251</td>\n",
       "      <td>writer</td>\n",
       "      <td>written by</td>\n",
       "      <td>\\N</td>\n",
       "    </tr>\n",
       "    <tr>\n",
       "      <th>14119660</th>\n",
       "      <td>tt1515091</td>\n",
       "      <td>7</td>\n",
       "      <td>nm0612487</td>\n",
       "      <td>writer</td>\n",
       "      <td>written by</td>\n",
       "      <td>\\N</td>\n",
       "    </tr>\n",
       "    <tr>\n",
       "      <th>14119661</th>\n",
       "      <td>tt1515091</td>\n",
       "      <td>8</td>\n",
       "      <td>nm0236279</td>\n",
       "      <td>writer</td>\n",
       "      <td>characters</td>\n",
       "      <td>\\N</td>\n",
       "    </tr>\n",
       "    <tr>\n",
       "      <th>14119662</th>\n",
       "      <td>tt1515091</td>\n",
       "      <td>9</td>\n",
       "      <td>nm1206265</td>\n",
       "      <td>producer</td>\n",
       "      <td>producer</td>\n",
       "      <td>\\N</td>\n",
       "    </tr>\n",
       "  </tbody>\n",
       "</table>\n",
       "</div>"
      ],
      "text/plain": [
       "             tconst  ordering     nconst  category         job  \\\n",
       "14119653  tt1515091        10  nm1469853  producer    producer   \n",
       "14119654  tt1515091         1  nm0000375     actor          \\N   \n",
       "14119655  tt1515091         2  nm0000179     actor          \\N   \n",
       "14119656  tt1515091         3  nm0364813     actor          \\N   \n",
       "14119657  tt1515091         4  nm1046097   actress          \\N   \n",
       "14119658  tt1515091         5  nm0005363  director          \\N   \n",
       "14119659  tt1515091         6  nm1802251    writer  written by   \n",
       "14119660  tt1515091         7  nm0612487    writer  written by   \n",
       "14119661  tt1515091         8  nm0236279    writer  characters   \n",
       "14119662  tt1515091         9  nm1206265  producer    producer   \n",
       "\n",
       "                            characters  \n",
       "14119653                            \\N  \n",
       "14119654           [\"Sherlock Holmes\"]  \n",
       "14119655           [\"Dr. John Watson\"]  \n",
       "14119656  [\"Professor James Moriarty\"]  \n",
       "14119657               [\"Irene Adler\"]  \n",
       "14119658                            \\N  \n",
       "14119659                            \\N  \n",
       "14119660                            \\N  \n",
       "14119661                            \\N  \n",
       "14119662                            \\N  "
      ]
     },
     "execution_count": 23,
     "metadata": {},
     "output_type": "execute_result"
    }
   ],
   "source": [
    "title_principals[title_principals['tconst'] == 'tt1515091']"
   ]
  },
  {
   "cell_type": "code",
   "execution_count": 19,
   "metadata": {},
   "outputs": [
    {
     "name": "stdout",
     "output_type": "stream",
     "text": [
      "CPU times: user 8.91 s, sys: 6.42 s, total: 15.3 s\n",
      "Wall time: 1min 3s\n"
     ]
    }
   ],
   "source": [
    "%%time\n",
    "relevant_principals = pd.merge(imdb_tmdb[['tconst']], title_principals,\n",
    "                  left_on=['tconst'], right_on=['tconst'], how='inner')"
   ]
  },
  {
   "cell_type": "code",
   "execution_count": 22,
   "metadata": {},
   "outputs": [],
   "source": [
    "relevant_principals.to_csv('../data/relevant_principals.csv')"
   ]
  },
  {
   "cell_type": "code",
   "execution_count": null,
   "metadata": {},
   "outputs": [],
   "source": []
  }
 ],
 "metadata": {
  "kernelspec": {
   "display_name": "Python 3.7 ML",
   "language": "python",
   "name": "ml"
  },
  "language_info": {
   "codemirror_mode": {
    "name": "ipython",
    "version": 3
   },
   "file_extension": ".py",
   "mimetype": "text/x-python",
   "name": "python",
   "nbconvert_exporter": "python",
   "pygments_lexer": "ipython3",
   "version": "3.7.4"
  }
 },
 "nbformat": 4,
 "nbformat_minor": 2
}
